{
 "cells": [
  {
   "cell_type": "markdown",
   "metadata": {},
   "source": [
    "# 📘 M2C2 DataKit Notebook: Universal Loading, Assurance, and Scoring\n",
    "\n",
    "This notebook demonstrates a full analytic pipeline using the `m2c2-datakit` package. It uses the `LASSIE` class to load, validate, score, and optionally export data from multiple source types.\n",
    "\n",
    "---\n",
    "\n",
    "## 🎯 Purpose\n",
    "\n",
    "Enable researchers to plug in data from varied sources (e.g., MongoDB, UAS, MetricWire, CSV bundles) and apply a consistent pipeline for:\n",
    "\n",
    "- Input validation\n",
    "\n",
    "- Scoring via predefined rules\n",
    "\n",
    "- Inspection and summarization\n",
    "\n",
    "- Tidy export and codebook generation\n",
    "\n",
    "---\n",
    "\n",
    "## Inspired by:\n",
    "\n",
    "<img src=\"https://m.media-amazon.com/images/M/MV5BNDNkZDk0ODktYjc0My00MzY4LWE3NzgtNjU5NmMzZDA3YTA1XkEyXkFqcGc@._V1_FMjpg_UX1000_.jpg\" alt=\"Inspiration for Package, Lassie Movie\" width=\"100\"/>\n",
    "\n",
    "## 🧠 L.A.S.S.I.E. Pipeline Summary\n",
    "\n",
    "| Step | Method           | Purpose                                                                 |\n",
    "|------|------------------|-------------------------------------------------------------------------|\n",
    "| L    | `load()`         | Load raw data from a supported source (e.g., MongoDB, UAS, MetricWire). |\n",
    "| A    | `assure()`       | Validate that required columns exist before processing.                 |\n",
    "| S    | `score()`        | Apply scoring logic based on predefined or custom rules.                |\n",
    "| S    | `summarize()`    | Aggregate scored data by participant, session, or custom groups.        |\n",
    "| I    | `inspect()`      | Visualize distributions or pairwise plots for quality checks.           |\n",
    "| E    | `export()`       | Save scored and summarized data to tidy files and optionally metadata.  |\n",
    "\n",
    "---\n",
    "\n",
    "\n",
    "## 📦 Supported Sources\n",
    "\n",
    "You may have used M2C2kit tasks via our various integrations, including the ones listed below. Each integration has its own loader class, which is responsible for reading the data and converting it into a format that can be processed by the `m2c2_datakit` package. Keep in mind that you are responsible for ensuring that the data is in the correct format for each loader class.\n",
    "\n",
    "In the future we anticipate creating loaders for downloading data via API.\n",
    "\n",
    "| Source Type   | Loader Class          | Key Arguments                            | Notes                                 |\n",
    "|---------------|------------------------|-------------------------------------------|----------------------------------------|\n",
    "| `mongodb`     | `MongoDBImporter`      | `source_path` (URL, to JSON)                      | Expects flat or nested JSON documents. |\n",
    "| `multicsv`    | `MultiCSVImporter`     | `source_map` (dict of CSV paths)          | Each activity type is its own file.    |\n",
    "| `metricwire`  | `MetricWireImporter`   | `source_path` (glob pattern or default)   | Processes JSON files from unzipped export. |\n",
    "| `qualtrics`    | `QualtricsImporter`     | `source_path` (URL to CSV)         | Each activity's trial saves data to a new column.    |\n",
    "| `uas`         | `UASImporter`          | `source_path` (URL, to pseudo-JSON)                       | Parses newline-delimited JSON.         |\n",
    "\n",
    "\n",
    "---\n",
    "\n",
    "## 🚀 Example Pipeline Steps\n",
    "\n",
    "### Step 1: Load Data\n",
    "\n",
    "```python\n",
    "source_map = {\n",
    "    \"Symbol Search\": \"data/reboot/m2c2kit_manualmerge_symbol_search_all_ts-20250402_151939.csv\",\n",
    "    \"Grid Memory\": \"data/reboot/m2c2kit_manualmerge_grid_memory_all_ts-20250402_151940.csv\"\n",
    "}\n",
    "\n",
    "mcsv = m2c2.core.pipeline.LASSIE().load(source_name=\"multicsv\", source_map=source_map)\n",
    "mw = m2c2.core.pipeline.LASSIE().load(source_name=\"metricwire\", source_path=\"data/metricwire/unzipped/*/*/*.json\")\n",
    "mdb = m2c2.core.pipeline.LASSIE().load(source_name=\"mongodb\", source_path=\"data/production-mongo-export/data_exported_120424_1010am.json\")\n",
    "uas = m2c2.core.pipeline.LASSIE().load(source_name=\"UAS\", source_path= \"https://uas.usc.edu/survey/uas/m2c2_ess/admin/export_m2c2.php?k=<INSERT KEY HERE>\")\n",
    "```\n",
    "\n",
    "---\n",
    "\n",
    "### Step 2: Verify Data\n",
    "\n",
    "```python\n",
    "mcsv.assure(required_columns=m2c2.core.config.settings.STANDARD_GROUPING_FOR_AGGREGATION)\n",
    "mw.assure(required_columns=m2c2.core.config.settings.STANDARD_GROUPING_FOR_AGGREGATION_METRICWIRE)\n",
    "mdb.assure(required_columns=m2c2.core.config.settings.STANDARD_GROUPING_FOR_AGGREGATION)\n",
    "uas.assure(required_columns=m2c2.core.config.settings.STANDARD_GROUPING_FOR_AGGREGATION)\n",
    "```\n",
    "---\n",
    "\n",
    "### Step 3: Score Data\n",
    "\n",
    "```python\n",
    "mcsv.score()\n",
    "mw.score()\n",
    "mdb.score()\n",
    "uas.score()\n",
    "```\n",
    "\n",
    "### Step 4: Inspect Data\n",
    "\n",
    "```python\n",
    "mcsv.inspect()\n",
    "mw.inspect()\n",
    "mdb.inspect()\n",
    "uas.inspect()\n",
    "```\n",
    "---\n",
    "\n",
    "### Step 5: Summarize Data\n",
    "\n",
    "```python\n",
    "mcsv.summarize(grouping=m2c2.core.config.settings.STANDARD_GROUPING_FOR_AGGREGATION)\n",
    "mw.summarize(grouping=m2c2.core.config.settings.STANDARD_GROUPING_FOR_AGGREGATION_METRICWIRE)\n",
    "mdb.summarize(grouping=m2c2.core.config.settings.STANDARD_GROUPING_FOR_AGGREGATION)\n",
    "uas.summarize(grouping=m2c2.core.config.settings.STANDARD_GROUPING_FOR_AGGREGATION)\n",
    "```\n",
    "\n",
    "---\n",
    "\n",
    "### Step 6: Export Data\n",
    "\n",
    "```python\n",
    "output_folder = \"tidy\n",
    "mcsv.export(file_basename=\"uas_export\", directory=output_folder)\n",
    "mw.export(file_basename=\"metricwire\", directory=output_folder)\n",
    "mdb.export(file_basename=\"mongodb_export\", directory=output_folder)\n",
    "uas.export(file_basename=\"uas_export\", directory=output_folder)\n",
    "\n",
    "```\n",
    "\n",
    "#### Oh yeah, and export the codebook too!\n",
    "\n",
    "```python\n",
    "mcsv.export_codebook(filename=\"codebook_uas.md\", directory=output_folder)\n",
    "mw.export_codebook(filename=\"codebook_metricwire.md\", directory=output_folder)\n",
    "mdb.export_codebook(filename=\"codebook_mongo.md\", directory=output_folder)\n",
    "uas.export_codebook(filename=\"codebook_uas.md\", directory=output_folder)\n",
    "```"
   ]
  },
  {
   "cell_type": "markdown",
   "metadata": {},
   "source": [
    "## Verify Data"
   ]
  },
  {
   "cell_type": "markdown",
   "metadata": {},
   "source": [
    "## 🛠️ Setup for Developers of this Package"
   ]
  },
  {
   "cell_type": "markdown",
   "metadata": {},
   "source": [
    "## Setup Environment to run Notebook"
   ]
  },
  {
   "cell_type": "code",
   "execution_count": null,
   "metadata": {},
   "outputs": [],
   "source": [
    "#!make dev-install\n",
    "%pip install --upgrade --no-cache-dir m2c2_datakit"
   ]
  },
  {
   "cell_type": "code",
   "execution_count": null,
   "metadata": {},
   "outputs": [],
   "source": [
    "import os\n",
    "import re\n",
    "import glob\n",
    "import json\n",
    "import pandas as pd\n",
    "from dotenv import load_dotenv\n",
    "import m2c2_datakit as m2c2\n",
    "m2c2.core.get_package_version()"
   ]
  },
  {
   "cell_type": "markdown",
   "metadata": {},
   "source": [
    "## Configure output folder and summary functions"
   ]
  },
  {
   "cell_type": "code",
   "execution_count": 3,
   "metadata": {},
   "outputs": [],
   "source": [
    "output_folder = \"tidy\"\n",
    "\n",
    "summary_func_map = {\n",
    "    \"Symbol Search\": m2c2.tasks.symbol_search.summarize,\n",
    "    \"Grid Memory\": m2c2.tasks.grid_memory.summarize,\n",
    "}\n",
    "\n",
    "# ^ this also means that a user could specify their own summarize functions as needed!"
   ]
  },
  {
   "cell_type": "markdown",
   "metadata": {},
   "source": [
    "## Step 1: Load Data"
   ]
  },
  {
   "cell_type": "code",
   "execution_count": null,
   "metadata": {},
   "outputs": [],
   "source": [
    "# Define source_folder relative to current working directory\n",
    "source_folder_mw = os.path.abspath(os.path.join(os.pardir, 'datakit/data/metricwire/unzipped'))\n",
    "source_path_mw = f\"{source_folder_mw}/*/*/*.json\"\n",
    "\n",
    "source_folder_mdb = os.path.abspath(os.path.join(os.pardir, \"datakit/data/production-mongo-export\"))\n",
    "source_path_mdb = f\"{source_folder_mdb}/data_exported_120424_1010am.json\"\n",
    "\n",
    "source_folder_qualtrics = os.path.abspath(os.path.join(os.pardir, \"datakit/data/qualtrics\"))\n",
    "source_path_qualtrics = f\"{source_folder_qualtrics}/Qualtrics+QSF+M2C2Kit+-+Grid+Memory+&+Color+Shapes_April+17,+2025_18.05.csv\"\n",
    "\n",
    "# Data from REBOOT Study (UCF and PSU) was manually merged so we have two csvs to load\n",
    "source_map = {\n",
    "    \"Symbol Search\": \"~/Documents/GitHub/datakit/data/reboot/m2c2kit_manualmerge_symbol_search_all_ts-20250402_151939.csv\",\n",
    "    \"Grid Memory\": \"~/Documents/GitHub/datakit/data/reboot/m2c2kit_manualmerge_grid_memory_all_ts-20250402_151940.csv\"\n",
    "}\n",
    "\n",
    "# Data from Metricwire\n",
    "mw = m2c2.core.pipeline.LASSIE().load(source_name=\"metricwire\", source_path=source_path_mw)\n",
    "\n",
    "# Data from demo M2C2 study on PSU production server\n",
    "mdb = m2c2.core.pipeline.LASSIE().load(source_name=\"mongodb\", source_path=source_path_mdb)\n",
    "\n",
    "# Data from REBOOT Study (UCF and PSU) was manually merged so we have two csvs to load\n",
    "mcsv = m2c2.core.pipeline.LASSIE().load(source_name=\"multicsv\", source_map=source_map)\n",
    "\n",
    "# Data from Qualtrics\n",
    "qualtrics = m2c2.core.pipeline.LASSIE().load(source_name=\"qualtrics\", source_path=source_path_qualtrics)\n",
    "\n",
    "# Data from UAS\n",
    "load_dotenv()\n",
    "UAS_LATEST_KEY = os.getenv(\"UAS_LATEST_KEY\")\n",
    "#uas = m2c2.core.pipeline.LASSIE().load(source_name=\"UAS\", source_path= f\"https://uas.usc.edu/survey/uas/m2c2_ess/admin/export_m2c2.php?k={UAS_LATEST_KEY}\")"
   ]
  },
  {
   "cell_type": "markdown",
   "metadata": {},
   "source": [
    "## Step 2: Verify Data"
   ]
  },
  {
   "cell_type": "code",
   "execution_count": null,
   "metadata": {},
   "outputs": [],
   "source": [
    "mdb.assure(required_columns=m2c2.core.config.settings.STANDARD_GROUPING_FOR_AGGREGATION)\n",
    "mcsv.assure(required_columns=['participant_id'])\n",
    "mw.assure(required_columns=m2c2.core.config.settings.STANDARD_GROUPING_FOR_AGGREGATION_METRICWIRE)\n",
    "qualtrics.assure(required_columns=['ResponseId'])\n",
    "#uas.assure(required_columns=m2c2.core.config.settings.STANDARD_GROUPING_FOR_AGGREGATION)"
   ]
  },
  {
   "cell_type": "markdown",
   "metadata": {},
   "source": [
    "## Step 3: Score Data"
   ]
  },
  {
   "cell_type": "code",
   "execution_count": null,
   "metadata": {},
   "outputs": [],
   "source": [
    "mdb.score()\n",
    "mcsv.score()\n",
    "#mw = mw.score()\n",
    "#qualtrics.score()\n",
    "#uas.score()"
   ]
  },
  {
   "cell_type": "markdown",
   "metadata": {},
   "source": [
    "## Step 4: Summarize Data"
   ]
  },
  {
   "cell_type": "code",
   "execution_count": null,
   "metadata": {},
   "outputs": [],
   "source": [
    "mdb.summarize(summary_func_map = summary_func_map)\n",
    "#mcsv.summarize(summary_func_map = summary_func_map)\n",
    "#mw.summarize(summary_func_map = summary_func_map)\n",
    "#qualtrics.summarize(summary_func_map = summary_func_map)\n",
    "#uas.summarize(summary_func_map = summary_func_map)"
   ]
  },
  {
   "cell_type": "code",
   "execution_count": 16,
   "metadata": {},
   "outputs": [],
   "source": [
    "a = mdb.grouped_summary.get(\"Symbol Search\")\n"
   ]
  },
  {
   "cell_type": "markdown",
   "metadata": {},
   "source": [
    "## Step 5: Inspect Data (plots)"
   ]
  },
  {
   "cell_type": "code",
   "execution_count": 8,
   "metadata": {},
   "outputs": [],
   "source": [
    "#mdb.inspect()\n",
    "#mcsv.inspect()\n",
    "#mw.inspect()\n",
    "#qualtrics.inspect()\n",
    "#uas.inspect()"
   ]
  },
  {
   "cell_type": "markdown",
   "metadata": {},
   "source": [
    "## Step 6: Export Data and Codebooks"
   ]
  },
  {
   "cell_type": "code",
   "execution_count": null,
   "metadata": {},
   "outputs": [],
   "source": [
    "mcsv.export(file_basename=\"reboot\", directory=\"tidy\")"
   ]
  },
  {
   "cell_type": "code",
   "execution_count": 10,
   "metadata": {},
   "outputs": [],
   "source": [
    "# mw.export(file_basename=\"export_metricwire\", directory=output_folder)\n",
    "# mw.export_codebook(filename=\"codebook_metricwire.md\", directory=output_folder)\n",
    "\n",
    "# mdb.export(file_basename=\"export_mongodb\", directory=output_folder)\n",
    "# mdb.export_codebook(filename=\"codebook_mongo.md\", directory=output_folder)\n",
    "\n",
    "# mcsv.export(file_basename=\"export_multicsv\", directory=output_folder)\n",
    "# mcsv.export_codebook(filename=\"codebook_multicsv.md\", directory=output_folder)\n",
    "\n",
    "#uas.export(file_basename=\"export_uas\", directory=output_folder)\n",
    "#uas.export_codebook(filename=\"codebook_uas.md\", directory=output_folder)\n",
    "\n",
    "#qualtrics.export(file_basename=\"export_qualtrics\", directory=output_folder)\n",
    "#qualtrics.export_codebook(filename=\"codebook_qualtrics.md\", directory=output_folder)"
   ]
  },
  {
   "cell_type": "markdown",
   "metadata": {},
   "source": [
    "## Step 7: See What's Inside"
   ]
  },
  {
   "cell_type": "code",
   "execution_count": 11,
   "metadata": {},
   "outputs": [],
   "source": [
    "#mdb.whats_inside()\n",
    "#mcsv.whats_inside()\n",
    "#mw.whats_inside()\n",
    "#qualtrics.whats_inside()\n",
    "#uas.whats_inside()"
   ]
  }
 ],
 "metadata": {
  "kernelspec": {
   "display_name": "Python 3",
   "language": "python",
   "name": "python3"
  },
  "language_info": {
   "codemirror_mode": {
    "name": "ipython",
    "version": 3
   },
   "file_extension": ".py",
   "mimetype": "text/x-python",
   "name": "python",
   "nbconvert_exporter": "python",
   "pygments_lexer": "ipython3",
   "version": "3.10.16"
  }
 },
 "nbformat": 4,
 "nbformat_minor": 2
}
