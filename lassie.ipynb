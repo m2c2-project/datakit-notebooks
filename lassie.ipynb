{
 "cells": [
  {
   "cell_type": "markdown",
   "metadata": {},
   "source": [
    "# 📘 M2C2 DataKit Notebook: Universal Loading, Assurance, and Scoring\n",
    "\n",
    "This notebook demonstrates a full analytic pipeline using the `m2c2-datakit` package. It uses the `LASSIE` class to load, validate, score, and optionally export data from multiple source types.\n",
    "\n",
    "---\n",
    "\n",
    "## 🎯 Purpose\n",
    "\n",
    "Enable researchers to plug in data from varied sources (e.g., MongoDB, UAS, MetricWire, CSV bundles) and apply a consistent pipeline for:\n",
    "\n",
    "- Input validation\n",
    "\n",
    "- Scoring via predefined rules\n",
    "\n",
    "- Inspection and summarization\n",
    "\n",
    "- Tidy export and codebook generation\n",
    "\n",
    "---\n",
    "\n",
    "## Inspired by:\n",
    "\n",
    "<img src=\"https://m.media-amazon.com/images/M/MV5BNDNkZDk0ODktYjc0My00MzY4LWE3NzgtNjU5NmMzZDA3YTA1XkEyXkFqcGc@._V1_FMjpg_UX1000_.jpg\" alt=\"Inspiration for Package, Lassie Movie\" width=\"100\"/>\n",
    "\n",
    "## 🧠 L.A.S.S.I.E. Pipeline Summary\n",
    "\n",
    "| Step | Method           | Purpose                                                                 |\n",
    "|------|------------------|-------------------------------------------------------------------------|\n",
    "| L    | `load()`         | Load raw data from a supported source (e.g., MongoDB, UAS, MetricWire). |\n",
    "| A    | `assure()`       | Validate that required columns exist before processing.                 |\n",
    "| S    | `score()`        | Apply scoring logic based on predefined or custom rules.                |\n",
    "| S    | `summarize()`    | Aggregate scored data by participant, session, or custom groups.        |\n",
    "| I    | `inspect()`      | Visualize distributions or pairwise plots for quality checks.           |\n",
    "| E    | `export()`       | Save scored and summarized data to tidy files and optionally metadata.  |\n",
    "\n",
    "---\n",
    "\n",
    "\n",
    "## 📦 Supported Sources\n",
    "\n",
    "You may have used M2C2kit tasks via our various integrations, including the ones listed below. Each integration has its own loader class, which is responsible for reading the data and converting it into a format that can be processed by the `m2c2_datakit` package. Keep in mind that you are responsible for ensuring that the data is in the correct format for each loader class.\n",
    "\n",
    "In the future we anticipate creating loaders for downloading data via API.\n",
    "\n",
    "| Source Type   | Loader Class          | Key Arguments                            | Notes                                 |\n",
    "|---------------|------------------------|-------------------------------------------|----------------------------------------|\n",
    "| `mongodb`     | `MongoDBImporter`      | `source_path` (URL, to JSON)                      | Expects flat or nested JSON documents. |\n",
    "| `multicsv`    | `MultiCSVImporter`     | `source_map` (dict of CSV paths)          | Each activity type is its own file.    |\n",
    "| `metricwire`  | `MetricWireImporter`   | `source_path` (glob pattern or default)   | Processes JSON files from unzipped export. |\n",
    "| `qualtrics`    | `QualtricsImporter`     | `source_path` (URL to CSV)         | Each activity's trial saves data to a new column.    |\n",
    "| `uas`         | `UASImporter`          | `source_path` (URL, to pseudo-JSON)                       | Parses newline-delimited JSON.         |\n",
    "\n",
    "\n",
    "---\n",
    "\n",
    "## 🚀 Example Pipeline Steps\n",
    "\n",
    "### Step 1: Load Data\n",
    "\n",
    "```python\n",
    "source_map = {\n",
    "    \"Symbol Search\": \"data/reboot/m2c2kit_manualmerge_symbol_search_all_ts-20250402_151939.csv\",\n",
    "    \"Grid Memory\": \"data/reboot/m2c2kit_manualmerge_grid_memory_all_ts-20250402_151940.csv\"\n",
    "}\n",
    "\n",
    "mcsv = m2c2.core.pipeline.LASSIE().load(source_name=\"multicsv\", source_map=source_map)\n",
    "mw = m2c2.core.pipeline.LASSIE().load(source_name=\"metricwire\", source_path=\"data/metricwire/unzipped/*/*/*.json\")\n",
    "mdb = m2c2.core.pipeline.LASSIE().load(source_name=\"mongodb\", source_path=\"data/production-mongo-export/data_exported_120424_1010am.json\")\n",
    "uas = m2c2.core.pipeline.LASSIE().load(source_name=\"UAS\", source_path= \"https://uas.usc.edu/survey/uas/m2c2_ess/admin/export_m2c2.php?k=<INSERT KEY HERE>\")\n",
    "```\n",
    "\n",
    "---\n",
    "\n",
    "### Step 2: Verify Data\n",
    "\n",
    "```python\n",
    "mcsv.assure(required_columns=m2c2.core.config.settings.STANDARD_GROUPING_FOR_AGGREGATION)\n",
    "mw.assure(required_columns=m2c2.core.config.settings.STANDARD_GROUPING_FOR_AGGREGATION_METRICWIRE)\n",
    "mdb.assure(required_columns=m2c2.core.config.settings.STANDARD_GROUPING_FOR_AGGREGATION)\n",
    "uas.assure(required_columns=m2c2.core.config.settings.STANDARD_GROUPING_FOR_AGGREGATION)\n",
    "```\n",
    "---\n",
    "\n",
    "### Step 3: Score Data\n",
    "\n",
    "```python\n",
    "mcsv.score()\n",
    "mw.score()\n",
    "mdb.score()\n",
    "uas.score()\n",
    "```\n",
    "\n",
    "### Step 4: Inspect Data\n",
    "\n",
    "```python\n",
    "mcsv.inspect()\n",
    "mw.inspect()\n",
    "mdb.inspect()\n",
    "uas.inspect()\n",
    "```\n",
    "---\n",
    "\n",
    "### Step 5: Summarize Data\n",
    "\n",
    "```python\n",
    "mcsv.summarize(grouping=m2c2.core.config.settings.STANDARD_GROUPING_FOR_AGGREGATION)\n",
    "mw.summarize(grouping=m2c2.core.config.settings.STANDARD_GROUPING_FOR_AGGREGATION_METRICWIRE)\n",
    "mdb.summarize(grouping=m2c2.core.config.settings.STANDARD_GROUPING_FOR_AGGREGATION)\n",
    "uas.summarize(grouping=m2c2.core.config.settings.STANDARD_GROUPING_FOR_AGGREGATION)\n",
    "```\n",
    "\n",
    "---\n",
    "\n",
    "### Step 6: Export Data\n",
    "\n",
    "```python\n",
    "output_folder = \"tidy\n",
    "mcsv.export(file_basename=\"uas_export\", directory=output_folder)\n",
    "mw.export(file_basename=\"metricwire\", directory=output_folder)\n",
    "mdb.export(file_basename=\"mongodb_export\", directory=output_folder)\n",
    "uas.export(file_basename=\"uas_export\", directory=output_folder)\n",
    "\n",
    "```\n",
    "\n",
    "#### Oh yeah, and export the codebook too!\n",
    "\n",
    "```python\n",
    "mcsv.export_codebook(filename=\"codebook_uas.md\", directory=output_folder)\n",
    "mw.export_codebook(filename=\"codebook_metricwire.md\", directory=output_folder)\n",
    "mdb.export_codebook(filename=\"codebook_mongo.md\", directory=output_folder)\n",
    "uas.export_codebook(filename=\"codebook_uas.md\", directory=output_folder)\n",
    "```"
   ]
  },
  {
   "cell_type": "markdown",
   "metadata": {},
   "source": [
    "## Verify Data"
   ]
  },
  {
   "cell_type": "markdown",
   "metadata": {},
   "source": [
    "## 🛠️ Setup for Developers of this Package"
   ]
  },
  {
   "cell_type": "markdown",
   "metadata": {},
   "source": [
    "## Setup Environment to run Notebook"
   ]
  },
  {
   "cell_type": "code",
   "execution_count": 1,
   "metadata": {},
   "outputs": [
    {
     "name": "stdout",
     "output_type": "stream",
     "text": [
      "Requirement already satisfied: m2c2_datakit in /opt/homebrew/lib/python3.10/site-packages (0.1.77)\n",
      "Collecting m2c2_datakit\n",
      "  Downloading m2c2_datakit-0.1.78-py3-none-any.whl.metadata (49 kB)\n",
      "Requirement already satisfied: numpy in /opt/homebrew/lib/python3.10/site-packages (from m2c2_datakit) (2.2.5)\n",
      "Requirement already satisfied: pandas in /opt/homebrew/lib/python3.10/site-packages (from m2c2_datakit) (2.2.3)\n",
      "Requirement already satisfied: scipy in /opt/homebrew/lib/python3.10/site-packages (from m2c2_datakit) (1.15.3)\n",
      "Requirement already satisfied: matplotlib in /opt/homebrew/lib/python3.10/site-packages (from m2c2_datakit) (3.10.3)\n",
      "Requirement already satisfied: seaborn in /opt/homebrew/lib/python3.10/site-packages (from m2c2_datakit) (0.13.2)\n",
      "Requirement already satisfied: ipykernel>=6.29.5 in /Users/nur375/Library/Python/3.10/lib/python/site-packages (from m2c2_datakit) (6.29.5)\n",
      "Requirement already satisfied: logfire>=3.14.1 in /opt/homebrew/lib/python3.10/site-packages (from m2c2_datakit) (3.14.1)\n",
      "Requirement already satisfied: pydantic>=2.11.4 in /opt/homebrew/lib/python3.10/site-packages (from m2c2_datakit) (2.11.4)\n",
      "Requirement already satisfied: tabulate in /opt/homebrew/lib/python3.10/site-packages (from m2c2_datakit) (0.9.0)\n",
      "Requirement already satisfied: python-dotenv in /opt/homebrew/lib/python3.10/site-packages (from m2c2_datakit) (1.1.0)\n",
      "Requirement already satisfied: appnope in /Users/nur375/Library/Python/3.10/lib/python/site-packages (from ipykernel>=6.29.5->m2c2_datakit) (0.1.4)\n",
      "Requirement already satisfied: comm>=0.1.1 in /Users/nur375/Library/Python/3.10/lib/python/site-packages (from ipykernel>=6.29.5->m2c2_datakit) (0.2.2)\n",
      "Requirement already satisfied: debugpy>=1.6.5 in /Users/nur375/Library/Python/3.10/lib/python/site-packages (from ipykernel>=6.29.5->m2c2_datakit) (1.8.13)\n",
      "Requirement already satisfied: ipython>=7.23.1 in /Users/nur375/Library/Python/3.10/lib/python/site-packages (from ipykernel>=6.29.5->m2c2_datakit) (8.34.0)\n",
      "Requirement already satisfied: jupyter-client>=6.1.12 in /Users/nur375/Library/Python/3.10/lib/python/site-packages (from ipykernel>=6.29.5->m2c2_datakit) (8.6.3)\n",
      "Requirement already satisfied: jupyter-core!=5.0.*,>=4.12 in /Users/nur375/Library/Python/3.10/lib/python/site-packages (from ipykernel>=6.29.5->m2c2_datakit) (5.7.2)\n",
      "Requirement already satisfied: matplotlib-inline>=0.1 in /Users/nur375/Library/Python/3.10/lib/python/site-packages (from ipykernel>=6.29.5->m2c2_datakit) (0.1.7)\n",
      "Requirement already satisfied: nest-asyncio in /Users/nur375/Library/Python/3.10/lib/python/site-packages (from ipykernel>=6.29.5->m2c2_datakit) (1.6.0)\n",
      "Requirement already satisfied: packaging in /Users/nur375/Library/Python/3.10/lib/python/site-packages (from ipykernel>=6.29.5->m2c2_datakit) (24.2)\n",
      "Requirement already satisfied: psutil in /Users/nur375/Library/Python/3.10/lib/python/site-packages (from ipykernel>=6.29.5->m2c2_datakit) (7.0.0)\n",
      "Requirement already satisfied: pyzmq>=24 in /Users/nur375/Library/Python/3.10/lib/python/site-packages (from ipykernel>=6.29.5->m2c2_datakit) (26.2.1)\n",
      "Requirement already satisfied: tornado>=6.1 in /Users/nur375/Library/Python/3.10/lib/python/site-packages (from ipykernel>=6.29.5->m2c2_datakit) (6.4.2)\n",
      "Requirement already satisfied: traitlets>=5.4.0 in /Users/nur375/Library/Python/3.10/lib/python/site-packages (from ipykernel>=6.29.5->m2c2_datakit) (5.14.3)\n",
      "Requirement already satisfied: executing>=2.0.1 in /Users/nur375/Library/Python/3.10/lib/python/site-packages (from logfire>=3.14.1->m2c2_datakit) (2.2.0)\n",
      "Requirement already satisfied: opentelemetry-exporter-otlp-proto-http<1.33.0,>=1.21.0 in /opt/homebrew/lib/python3.10/site-packages (from logfire>=3.14.1->m2c2_datakit) (1.32.1)\n",
      "Requirement already satisfied: opentelemetry-instrumentation>=0.41b0 in /opt/homebrew/lib/python3.10/site-packages (from logfire>=3.14.1->m2c2_datakit) (0.53b1)\n",
      "Requirement already satisfied: opentelemetry-sdk<1.33.0,>=1.21.0 in /opt/homebrew/lib/python3.10/site-packages (from logfire>=3.14.1->m2c2_datakit) (1.32.1)\n",
      "Requirement already satisfied: protobuf>=4.23.4 in /opt/homebrew/lib/python3.10/site-packages (from logfire>=3.14.1->m2c2_datakit) (5.29.4)\n",
      "Requirement already satisfied: rich>=13.4.2 in /opt/homebrew/lib/python3.10/site-packages (from logfire>=3.14.1->m2c2_datakit) (14.0.0)\n",
      "Requirement already satisfied: tomli>=2.0.1 in /opt/homebrew/lib/python3.10/site-packages (from logfire>=3.14.1->m2c2_datakit) (2.2.1)\n",
      "Requirement already satisfied: typing-extensions>=4.1.0 in /Users/nur375/Library/Python/3.10/lib/python/site-packages (from logfire>=3.14.1->m2c2_datakit) (4.12.2)\n",
      "Requirement already satisfied: annotated-types>=0.6.0 in /opt/homebrew/lib/python3.10/site-packages (from pydantic>=2.11.4->m2c2_datakit) (0.7.0)\n",
      "Requirement already satisfied: pydantic-core==2.33.2 in /opt/homebrew/lib/python3.10/site-packages (from pydantic>=2.11.4->m2c2_datakit) (2.33.2)\n",
      "Requirement already satisfied: typing-inspection>=0.4.0 in /opt/homebrew/lib/python3.10/site-packages (from pydantic>=2.11.4->m2c2_datakit) (0.4.0)\n",
      "Requirement already satisfied: contourpy>=1.0.1 in /opt/homebrew/lib/python3.10/site-packages (from matplotlib->m2c2_datakit) (1.3.2)\n",
      "Requirement already satisfied: cycler>=0.10 in /opt/homebrew/lib/python3.10/site-packages (from matplotlib->m2c2_datakit) (0.12.1)\n",
      "Requirement already satisfied: fonttools>=4.22.0 in /opt/homebrew/lib/python3.10/site-packages (from matplotlib->m2c2_datakit) (4.58.0)\n",
      "Requirement already satisfied: kiwisolver>=1.3.1 in /opt/homebrew/lib/python3.10/site-packages (from matplotlib->m2c2_datakit) (1.4.8)\n",
      "Requirement already satisfied: pillow>=8 in /opt/homebrew/lib/python3.10/site-packages (from matplotlib->m2c2_datakit) (11.2.1)\n",
      "Requirement already satisfied: pyparsing>=2.3.1 in /opt/homebrew/lib/python3.10/site-packages (from matplotlib->m2c2_datakit) (3.2.3)\n",
      "Requirement already satisfied: python-dateutil>=2.7 in /Users/nur375/Library/Python/3.10/lib/python/site-packages (from matplotlib->m2c2_datakit) (2.9.0.post0)\n",
      "Requirement already satisfied: pytz>=2020.1 in /opt/homebrew/lib/python3.10/site-packages (from pandas->m2c2_datakit) (2025.2)\n",
      "Requirement already satisfied: tzdata>=2022.7 in /opt/homebrew/lib/python3.10/site-packages (from pandas->m2c2_datakit) (2025.2)\n",
      "Requirement already satisfied: decorator in /Users/nur375/Library/Python/3.10/lib/python/site-packages (from ipython>=7.23.1->ipykernel>=6.29.5->m2c2_datakit) (5.2.1)\n",
      "Requirement already satisfied: exceptiongroup in /Users/nur375/Library/Python/3.10/lib/python/site-packages (from ipython>=7.23.1->ipykernel>=6.29.5->m2c2_datakit) (1.2.2)\n",
      "Requirement already satisfied: jedi>=0.16 in /Users/nur375/Library/Python/3.10/lib/python/site-packages (from ipython>=7.23.1->ipykernel>=6.29.5->m2c2_datakit) (0.19.2)\n",
      "Requirement already satisfied: pexpect>4.3 in /Users/nur375/Library/Python/3.10/lib/python/site-packages (from ipython>=7.23.1->ipykernel>=6.29.5->m2c2_datakit) (4.9.0)\n",
      "Requirement already satisfied: prompt_toolkit<3.1.0,>=3.0.41 in /Users/nur375/Library/Python/3.10/lib/python/site-packages (from ipython>=7.23.1->ipykernel>=6.29.5->m2c2_datakit) (3.0.50)\n",
      "Requirement already satisfied: pygments>=2.4.0 in /Users/nur375/Library/Python/3.10/lib/python/site-packages (from ipython>=7.23.1->ipykernel>=6.29.5->m2c2_datakit) (2.19.1)\n",
      "Requirement already satisfied: stack_data in /Users/nur375/Library/Python/3.10/lib/python/site-packages (from ipython>=7.23.1->ipykernel>=6.29.5->m2c2_datakit) (0.6.3)\n",
      "Requirement already satisfied: platformdirs>=2.5 in /Users/nur375/Library/Python/3.10/lib/python/site-packages (from jupyter-core!=5.0.*,>=4.12->ipykernel>=6.29.5->m2c2_datakit) (4.3.6)\n",
      "Requirement already satisfied: deprecated>=1.2.6 in /opt/homebrew/lib/python3.10/site-packages (from opentelemetry-exporter-otlp-proto-http<1.33.0,>=1.21.0->logfire>=3.14.1->m2c2_datakit) (1.2.18)\n",
      "Requirement already satisfied: googleapis-common-protos~=1.52 in /opt/homebrew/lib/python3.10/site-packages (from opentelemetry-exporter-otlp-proto-http<1.33.0,>=1.21.0->logfire>=3.14.1->m2c2_datakit) (1.70.0)\n",
      "Requirement already satisfied: opentelemetry-api~=1.15 in /opt/homebrew/lib/python3.10/site-packages (from opentelemetry-exporter-otlp-proto-http<1.33.0,>=1.21.0->logfire>=3.14.1->m2c2_datakit) (1.32.1)\n",
      "Requirement already satisfied: opentelemetry-exporter-otlp-proto-common==1.32.1 in /opt/homebrew/lib/python3.10/site-packages (from opentelemetry-exporter-otlp-proto-http<1.33.0,>=1.21.0->logfire>=3.14.1->m2c2_datakit) (1.32.1)\n",
      "Requirement already satisfied: opentelemetry-proto==1.32.1 in /opt/homebrew/lib/python3.10/site-packages (from opentelemetry-exporter-otlp-proto-http<1.33.0,>=1.21.0->logfire>=3.14.1->m2c2_datakit) (1.32.1)\n",
      "Requirement already satisfied: requests~=2.7 in /opt/homebrew/lib/python3.10/site-packages (from opentelemetry-exporter-otlp-proto-http<1.33.0,>=1.21.0->logfire>=3.14.1->m2c2_datakit) (2.32.3)\n",
      "Requirement already satisfied: opentelemetry-semantic-conventions==0.53b1 in /opt/homebrew/lib/python3.10/site-packages (from opentelemetry-instrumentation>=0.41b0->logfire>=3.14.1->m2c2_datakit) (0.53b1)\n",
      "Requirement already satisfied: wrapt<2.0.0,>=1.0.0 in /opt/homebrew/lib/python3.10/site-packages (from opentelemetry-instrumentation>=0.41b0->logfire>=3.14.1->m2c2_datakit) (1.17.2)\n",
      "Requirement already satisfied: importlib-metadata<8.7.0,>=6.0 in /opt/homebrew/lib/python3.10/site-packages (from opentelemetry-api~=1.15->opentelemetry-exporter-otlp-proto-http<1.33.0,>=1.21.0->logfire>=3.14.1->m2c2_datakit) (8.6.1)\n",
      "Requirement already satisfied: six>=1.5 in /Users/nur375/Library/Python/3.10/lib/python/site-packages (from python-dateutil>=2.7->matplotlib->m2c2_datakit) (1.17.0)\n",
      "Requirement already satisfied: markdown-it-py>=2.2.0 in /opt/homebrew/lib/python3.10/site-packages (from rich>=13.4.2->logfire>=3.14.1->m2c2_datakit) (3.0.0)\n",
      "Requirement already satisfied: parso<0.9.0,>=0.8.4 in /Users/nur375/Library/Python/3.10/lib/python/site-packages (from jedi>=0.16->ipython>=7.23.1->ipykernel>=6.29.5->m2c2_datakit) (0.8.4)\n",
      "Requirement already satisfied: mdurl~=0.1 in /opt/homebrew/lib/python3.10/site-packages (from markdown-it-py>=2.2.0->rich>=13.4.2->logfire>=3.14.1->m2c2_datakit) (0.1.2)\n",
      "Requirement already satisfied: ptyprocess>=0.5 in /Users/nur375/Library/Python/3.10/lib/python/site-packages (from pexpect>4.3->ipython>=7.23.1->ipykernel>=6.29.5->m2c2_datakit) (0.7.0)\n",
      "Requirement already satisfied: wcwidth in /Users/nur375/Library/Python/3.10/lib/python/site-packages (from prompt_toolkit<3.1.0,>=3.0.41->ipython>=7.23.1->ipykernel>=6.29.5->m2c2_datakit) (0.2.13)\n",
      "Requirement already satisfied: charset-normalizer<4,>=2 in /opt/homebrew/lib/python3.10/site-packages (from requests~=2.7->opentelemetry-exporter-otlp-proto-http<1.33.0,>=1.21.0->logfire>=3.14.1->m2c2_datakit) (3.4.2)\n",
      "Requirement already satisfied: idna<4,>=2.5 in /opt/homebrew/lib/python3.10/site-packages (from requests~=2.7->opentelemetry-exporter-otlp-proto-http<1.33.0,>=1.21.0->logfire>=3.14.1->m2c2_datakit) (3.10)\n",
      "Requirement already satisfied: urllib3<3,>=1.21.1 in /opt/homebrew/lib/python3.10/site-packages (from requests~=2.7->opentelemetry-exporter-otlp-proto-http<1.33.0,>=1.21.0->logfire>=3.14.1->m2c2_datakit) (2.4.0)\n",
      "Requirement already satisfied: certifi>=2017.4.17 in /opt/homebrew/lib/python3.10/site-packages (from requests~=2.7->opentelemetry-exporter-otlp-proto-http<1.33.0,>=1.21.0->logfire>=3.14.1->m2c2_datakit) (2025.4.26)\n",
      "Requirement already satisfied: asttokens>=2.1.0 in /Users/nur375/Library/Python/3.10/lib/python/site-packages (from stack_data->ipython>=7.23.1->ipykernel>=6.29.5->m2c2_datakit) (3.0.0)\n",
      "Requirement already satisfied: pure-eval in /Users/nur375/Library/Python/3.10/lib/python/site-packages (from stack_data->ipython>=7.23.1->ipykernel>=6.29.5->m2c2_datakit) (0.2.3)\n",
      "Requirement already satisfied: zipp>=3.20 in /opt/homebrew/lib/python3.10/site-packages (from importlib-metadata<8.7.0,>=6.0->opentelemetry-api~=1.15->opentelemetry-exporter-otlp-proto-http<1.33.0,>=1.21.0->logfire>=3.14.1->m2c2_datakit) (3.21.0)\n",
      "Downloading m2c2_datakit-0.1.78-py3-none-any.whl (53 kB)\n",
      "Installing collected packages: m2c2_datakit\n",
      "  Attempting uninstall: m2c2_datakit\n",
      "    Found existing installation: m2c2-datakit 0.1.77\n",
      "    Uninstalling m2c2-datakit-0.1.77:\n",
      "      Successfully uninstalled m2c2-datakit-0.1.77\n",
      "Successfully installed m2c2_datakit-0.1.78\n",
      "\n",
      "\u001b[1m[\u001b[0m\u001b[34;49mnotice\u001b[0m\u001b[1;39;49m]\u001b[0m\u001b[39;49m A new release of pip is available: \u001b[0m\u001b[31;49m24.3.1\u001b[0m\u001b[39;49m -> \u001b[0m\u001b[32;49m25.1.1\u001b[0m\n",
      "\u001b[1m[\u001b[0m\u001b[34;49mnotice\u001b[0m\u001b[1;39;49m]\u001b[0m\u001b[39;49m To update, run: \u001b[0m\u001b[32;49mpython3.10 -m pip install --upgrade pip\u001b[0m\n",
      "Note: you may need to restart the kernel to use updated packages.\n"
     ]
    }
   ],
   "source": [
    "#!make dev-install\n",
    "%pip install --upgrade --no-cache-dir m2c2_datakit"
   ]
  },
  {
   "cell_type": "code",
   "execution_count": 2,
   "metadata": {},
   "outputs": [
    {
     "data": {
      "text/plain": [
       "'0.1.78'"
      ]
     },
     "execution_count": 2,
     "metadata": {},
     "output_type": "execute_result"
    }
   ],
   "source": [
    "import os\n",
    "import re\n",
    "import glob\n",
    "import json\n",
    "import pandas as pd\n",
    "from dotenv import load_dotenv\n",
    "import m2c2_datakit as m2c2\n",
    "m2c2.core.get_package_version()"
   ]
  },
  {
   "cell_type": "markdown",
   "metadata": {},
   "source": [
    "## Configure output folder and summary functions"
   ]
  },
  {
   "cell_type": "code",
   "execution_count": 3,
   "metadata": {},
   "outputs": [],
   "source": [
    "output_folder = \"tidy\"\n",
    "\n",
    "summary_func_map = {\n",
    "    \"Symbol Search\": m2c2.tasks.symbol_search.summarize,\n",
    "    \"Grid Memory\": m2c2.tasks.grid_memory.summarize,\n",
    "}\n",
    "\n",
    "# ^ this also means that a user could specify their own summarize functions as needed!"
   ]
  },
  {
   "cell_type": "markdown",
   "metadata": {},
   "source": [
    "## Step 1: Load Data"
   ]
  },
  {
   "cell_type": "code",
   "execution_count": 4,
   "metadata": {},
   "outputs": [
    {
     "name": "stderr",
     "output_type": "stream",
     "text": [
      "/var/folders/s5/cdfgl21s67g7kcj9ts4x8pnn4njnsy/T/ipykernel_13579/364662537.py:18: LogfireNotConfiguredWarning: No logs or spans will be created until `logfire.configure()` has been called. Set the environment variable LOGFIRE_IGNORE_NO_CONFIG=1 or add ignore_no_config=true in pyproject.toml to suppress this warning.\n",
      "  mw = m2c2.core.pipeline.LASSIE().load(source_name=\"metricwire\", source_path=source_path_mw)\n"
     ]
    }
   ],
   "source": [
    "# Define source_folder relative to current working directory\n",
    "source_folder_mw = os.path.abspath(os.path.join(os.pardir, 'datakit/data/metricwire/unzipped'))\n",
    "source_path_mw = f\"{source_folder_mw}/*/*/*.json\"\n",
    "\n",
    "source_folder_mdb = os.path.abspath(os.path.join(os.pardir, \"datakit/data/production-mongo-export\"))\n",
    "source_path_mdb = f\"{source_folder_mdb}/data_exported_120424_1010am.json\"\n",
    "\n",
    "source_folder_qualtrics = os.path.abspath(os.path.join(os.pardir, \"datakit/data/qualtrics\"))\n",
    "source_path_qualtrics = f\"{source_folder_qualtrics}/Qualtrics+QSF+M2C2Kit+-+Grid+Memory+&+Color+Shapes_April+17,+2025_18.05.csv\"\n",
    "\n",
    "# Data from REBOOT Study (UCF and PSU) was manually merged so we have two csvs to load\n",
    "source_map = {\n",
    "    \"Symbol Search\": \"~/Documents/GitHub/datakit/data/reboot/m2c2kit_manualmerge_symbol_search_all_ts-20250402_151939.csv\",\n",
    "    \"Grid Memory\": \"~/Documents/GitHub/datakit/data/reboot/m2c2kit_manualmerge_grid_memory_all_ts-20250402_151940.csv\"\n",
    "}\n",
    "\n",
    "# Data from Metricwire\n",
    "mw = m2c2.core.pipeline.LASSIE().load(source_name=\"metricwire\", source_path=source_path_mw)\n",
    "\n",
    "# Data from demo M2C2 study on PSU production server\n",
    "mdb = m2c2.core.pipeline.LASSIE().load(source_name=\"mongodb\", source_path=source_path_mdb)\n",
    "\n",
    "# Data from REBOOT Study (UCF and PSU) was manually merged so we have two csvs to load\n",
    "mcsv = m2c2.core.pipeline.LASSIE().load(source_name=\"multicsv\", source_map=source_map)\n",
    "\n",
    "# Data from Qualtrics\n",
    "qualtrics = m2c2.core.pipeline.LASSIE().load(source_name=\"qualtrics\", source_path=source_path_qualtrics)\n",
    "\n",
    "# Data from UAS\n",
    "load_dotenv()\n",
    "UAS_LATEST_KEY = os.getenv(\"UAS_LATEST_KEY\")\n",
    "#uas = m2c2.core.pipeline.LASSIE().load(source_name=\"UAS\", source_path= f\"https://uas.usc.edu/survey/uas/m2c2_ess/admin/export_m2c2.php?k={UAS_LATEST_KEY}\")"
   ]
  },
  {
   "cell_type": "markdown",
   "metadata": {},
   "source": [
    "## Step 2: Verify Data"
   ]
  },
  {
   "cell_type": "code",
   "execution_count": 5,
   "metadata": {},
   "outputs": [
    {
     "data": {
      "text/plain": [
       "<m2c2_datakit.core.pipeline.LASSIE at 0x10730a080>"
      ]
     },
     "execution_count": 5,
     "metadata": {},
     "output_type": "execute_result"
    }
   ],
   "source": [
    "mdb.assure(required_columns=m2c2.core.config.settings.STANDARD_GROUPING_FOR_AGGREGATION)\n",
    "mcsv.assure(required_columns=['participant_id'])\n",
    "mw.assure(required_columns=m2c2.core.config.settings.STANDARD_GROUPING_FOR_AGGREGATION_METRICWIRE)\n",
    "qualtrics.assure(required_columns=['ResponseId'])\n",
    "#uas.assure(required_columns=m2c2.core.config.settings.STANDARD_GROUPING_FOR_AGGREGATION)"
   ]
  },
  {
   "cell_type": "markdown",
   "metadata": {},
   "source": [
    "## Step 3: Score Data"
   ]
  },
  {
   "cell_type": "code",
   "execution_count": 6,
   "metadata": {},
   "outputs": [
    {
     "name": "stdout",
     "output_type": "stream",
     "text": [
      "[WARN] No scoring functions defined for activity 'Color Dots', skipping.\n",
      "[WARN] No scoring functions defined for activity 'Color Match', skipping.\n",
      "[WARN] No scoring functions defined for activity 'Color Shapes', skipping.\n",
      "[WARN] No scoring functions defined for activity 'Color Squares', skipping.\n",
      "[WARN] No scoring functions defined for activity 'Digit Span', skipping.\n",
      "[WARN] No scoring functions defined for activity 'Digit Span (Audio)', skipping.\n",
      "[WARN] No scoring functions defined for activity 'Drawing', skipping.\n",
      "[WARN] No scoring functions defined for activity 'Face Naming Task', skipping.\n",
      "[WARN] No scoring functions defined for activity 'Go No Go', skipping.\n",
      "[WARN] No scoring functions defined for activity 'Go No Go Fade', skipping.\n",
      "[WARN] No scoring functions defined for activity 'Grid Forage', skipping.\n",
      "[WARN] No scoring functions defined for activity 'JOLO', skipping.\n",
      "[WARN] No scoring functions defined for activity 'Motion', skipping.\n",
      "[WARN] No scoring functions defined for activity 'Odd or Even', skipping.\n",
      "[WARN] No scoring functions defined for activity 'Shopping List', skipping.\n",
      "[WARN] No scoring functions defined for activity 'Stroop', skipping.\n",
      "[WARN] No scoring functions defined for activity 'Symbol-Number Matching Task', skipping.\n",
      "[WARN] No scoring functions defined for activity 'Trailmaking', skipping.\n"
     ]
    },
    {
     "data": {
      "text/plain": [
       "<m2c2_datakit.core.pipeline.LASSIE at 0x10730bcd0>"
      ]
     },
     "execution_count": 6,
     "metadata": {},
     "output_type": "execute_result"
    }
   ],
   "source": [
    "mdb.score()\n",
    "mcsv.score()\n",
    "#mw = mw.score()\n",
    "#qualtrics.score()\n",
    "#uas.score()"
   ]
  },
  {
   "cell_type": "markdown",
   "metadata": {},
   "source": [
    "## Step 4: Summarize Data"
   ]
  },
  {
   "cell_type": "code",
   "execution_count": 7,
   "metadata": {},
   "outputs": [
    {
     "data": {
      "text/plain": [
       "<m2c2_datakit.core.pipeline.LASSIE at 0x10730bcd0>"
      ]
     },
     "execution_count": 7,
     "metadata": {},
     "output_type": "execute_result"
    }
   ],
   "source": [
    "#mdb.summarize(summary_func_map = summary_func_map)\n",
    "mcsv.summarize(summary_func_map = summary_func_map)\n",
    "#mw.summarize(summary_func_map = summary_func_map)\n",
    "#qualtrics.summarize(summary_func_map = summary_func_map)\n",
    "#uas.summarize(summary_func_map = summary_func_map)"
   ]
  },
  {
   "cell_type": "markdown",
   "metadata": {},
   "source": [
    "## Step 5: Inspect Data (plots)"
   ]
  },
  {
   "cell_type": "code",
   "execution_count": 8,
   "metadata": {},
   "outputs": [],
   "source": [
    "#mdb.inspect()\n",
    "#mcsv.inspect()\n",
    "#mw.inspect()\n",
    "#qualtrics.inspect()\n",
    "#uas.inspect()"
   ]
  },
  {
   "cell_type": "markdown",
   "metadata": {},
   "source": [
    "## Step 6: Export Data and Codebooks"
   ]
  },
  {
   "cell_type": "code",
   "execution_count": 9,
   "metadata": {},
   "outputs": [
    {
     "name": "stdout",
     "output_type": "stream",
     "text": [
      "[EXPORT] DataFrame exported to: tidy/reboot_scored.csv\n",
      "[EXPORT] DataFrame exported to: tidy/reboot_summary_Grid Memory.csv\n",
      "[EXPORT] DataFrame exported to: tidy/reboot_summary_Symbol Search.csv\n",
      "Metadata saved to tidy/reboot_metadata.json\n"
     ]
    },
    {
     "data": {
      "text/plain": [
       "<m2c2_datakit.core.pipeline.LASSIE at 0x10730bcd0>"
      ]
     },
     "execution_count": 9,
     "metadata": {},
     "output_type": "execute_result"
    }
   ],
   "source": [
    "mcsv.export(file_basename=\"reboot\", directory=\"tidy\")"
   ]
  },
  {
   "cell_type": "code",
   "execution_count": 10,
   "metadata": {},
   "outputs": [],
   "source": [
    "# mw.export(file_basename=\"export_metricwire\", directory=output_folder)\n",
    "# mw.export_codebook(filename=\"codebook_metricwire.md\", directory=output_folder)\n",
    "\n",
    "# mdb.export(file_basename=\"export_mongodb\", directory=output_folder)\n",
    "# mdb.export_codebook(filename=\"codebook_mongo.md\", directory=output_folder)\n",
    "\n",
    "# mcsv.export(file_basename=\"export_multicsv\", directory=output_folder)\n",
    "# mcsv.export_codebook(filename=\"codebook_multicsv.md\", directory=output_folder)\n",
    "\n",
    "#uas.export(file_basename=\"export_uas\", directory=output_folder)\n",
    "#uas.export_codebook(filename=\"codebook_uas.md\", directory=output_folder)\n",
    "\n",
    "#qualtrics.export(file_basename=\"export_qualtrics\", directory=output_folder)\n",
    "#qualtrics.export_codebook(filename=\"codebook_qualtrics.md\", directory=output_folder)"
   ]
  },
  {
   "cell_type": "markdown",
   "metadata": {},
   "source": [
    "## Step 7: See What's Inside"
   ]
  },
  {
   "cell_type": "code",
   "execution_count": 11,
   "metadata": {},
   "outputs": [],
   "source": [
    "#mdb.whats_inside()\n",
    "#mcsv.whats_inside()\n",
    "#mw.whats_inside()\n",
    "#qualtrics.whats_inside()\n",
    "#uas.whats_inside()"
   ]
  }
 ],
 "metadata": {
  "kernelspec": {
   "display_name": "Python 3",
   "language": "python",
   "name": "python3"
  },
  "language_info": {
   "codemirror_mode": {
    "name": "ipython",
    "version": 3
   },
   "file_extension": ".py",
   "mimetype": "text/x-python",
   "name": "python",
   "nbconvert_exporter": "python",
   "pygments_lexer": "ipython3",
   "version": "3.10.16"
  }
 },
 "nbformat": 4,
 "nbformat_minor": 2
}
